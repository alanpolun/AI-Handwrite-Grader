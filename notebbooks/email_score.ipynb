{
 "cells": [
  {
   "cell_type": "markdown",
   "metadata": {},
   "source": [
    "# Email Scored Script to students"
   ]
  },
  {
   "cell_type": "code",
   "execution_count": 12,
   "metadata": {},
   "outputs": [],
   "source": [
    "pdf_file = \"../data/TestScript.pdf\""
   ]
  },
  {
   "cell_type": "markdown",
   "metadata": {},
   "source": [
    "Create smtp.config and provide SMTP server information"
   ]
  },
  {
   "cell_type": "code",
   "execution_count": 13,
   "metadata": {},
   "outputs": [],
   "source": [
    "import configparser\n",
    "\n",
    "config = configparser.ConfigParser()\n",
    "config.read(\"../smtp.config\")\n",
    "config.sections()\n",
    "\n",
    "email = config[\"default\"][\"email\"]\n",
    "password = config[\"default\"][\"password\"]\n",
    "smtp_server = config[\"default\"][\"smtp_server\"]\n",
    "smtp_port = config[\"default\"][\"smtp_port\"]"
   ]
  },
  {
   "cell_type": "code",
   "execution_count": 14,
   "metadata": {},
   "outputs": [],
   "source": [
    "import os\n",
    "\n",
    "file_name = os.path.basename(pdf_file)\n",
    "file_name = os.path.splitext(file_name)[0]\n",
    "base_path = \"../marking_form/\" + file_name\n",
    "base_path_marked_pdfs = base_path + \"/marked/pdf/\"\n",
    "base_path_marked_scripts = base_path + \"/marked/scripts/\""
   ]
  },
  {
   "cell_type": "code",
   "execution_count": 15,
   "metadata": {},
   "outputs": [],
   "source": [
    "# load details_score_report.xlsx to df\n",
    "import pandas as pd\n",
    "\n",
    "marksDf = pd.read_excel(base_path_marked_scripts + \"/details_score_report.xlsx\")\n",
    "\n",
    "# extract ID and Marks from df and store in a dictionary\n",
    "marksDict = {}\n",
    "for index, row in marksDf.iterrows():\n",
    "    marksDict[row[\"ID\"]] = row[\"Marks\"]"
   ]
  },
  {
   "cell_type": "markdown",
   "metadata": {},
   "source": [
    "# Draft the email\n",
    "Please update the subject and content."
   ]
  },
  {
   "cell_type": "code",
   "execution_count": 16,
   "metadata": {},
   "outputs": [],
   "source": [
    "subject = \"Your Test Script for \" + file_name\n",
    "\n",
    "body_template = \"\"\"\n",
    "Dear Student,\n",
    "\n",
    "Your marks is {marks} and attached with your scored script.\n",
    "\n",
    "Regards,\n",
    "AI Scoring Assistant\n",
    "\"\"\""
   ]
  },
  {
   "cell_type": "markdown",
   "metadata": {},
   "source": [
    "Provide a function to get student email by ID."
   ]
  },
  {
   "cell_type": "code",
   "execution_count": 17,
   "metadata": {},
   "outputs": [],
   "source": [
    "def get_email(id):\n",
    "    return \"cywong@vtc.edu.hk\"\n",
    "\n",
    "    # return str(id) + \"@stu.vtc.edu.hk\""
   ]
  },
  {
   "cell_type": "code",
   "execution_count": 23,
   "metadata": {},
   "outputs": [],
   "source": [
    "import smtplib, ssl\n",
    "from email.mime.multipart import MIMEMultipart\n",
    "from email.mime.text import MIMEText\n",
    "from email.mime.base import MIMEBase\n",
    "from email import encoders\n",
    "\n",
    "email = config[\"default\"][\"email\"]\n",
    "password = config[\"default\"][\"password\"]\n",
    "smtp_server = config[\"default\"][\"smtp_server\"]\n",
    "smtp_port = config[\"default\"][\"smtp_port\"]\n",
    "\n",
    "def send_email(receiver_email, subject, body, attachment_path):\n",
    "    message = MIMEMultipart()\n",
    "    message[\"From\"] = email\n",
    "    message[\"To\"] = receiver_email\n",
    "    message[\"Subject\"] = subject\n",
    "    message.attach(MIMEText(body, \"plain\"))\n",
    "    filename = os.path.basename(attachment_path)\n",
    "    attachment = open(attachment_path, \"rb\")\n",
    "    part = MIMEBase(\"application\", \"octet-stream\")\n",
    "    part.set_payload(attachment.read())\n",
    "    encoders.encode_base64(part)\n",
    "    part.add_header(\"Content-Disposition\", \"attachment; filename= %s\" % filename)\n",
    "    message.attach(part)\n",
    "    text = message.as_string()   \n",
    "    context = ssl.create_default_context()\n",
    "    with smtplib.SMTP(smtp_server, int(smtp_port)) as server:\n",
    "        server.ehlo()\n",
    "        server.starttls(context=context)\n",
    "        server.ehlo()\n",
    "        server.login(email, password, initial_response_ok=True)\n",
    "        server.sendmail(email, receiver_email, text)\n",
    "        server.quit()\n"
   ]
  },
  {
   "cell_type": "code",
   "execution_count": 25,
   "metadata": {},
   "outputs": [
    {
     "data": {
      "application/vnd.jupyter.widget-view+json": {
       "model_id": "af0919d74f6548038265f8a068a44c23",
       "version_major": 2,
       "version_minor": 0
      },
      "text/plain": [
       "IntProgress(value=0, max=57)"
      ]
     },
     "metadata": {},
     "output_type": "display_data"
    }
   ],
   "source": [
    "from IPython.display import display\n",
    "from ipywidgets import IntProgress\n",
    "\n",
    "\n",
    "f = IntProgress(min=0, max=len(marksDict))  # instantiate the bar\n",
    "display(f)  # display the bar\n",
    "\n",
    "for id in marksDict:\n",
    "    marks = marksDict[id]\n",
    "    body = body_template.format(marks=marks)\n",
    "    attachment_path = base_path_marked_pdfs + str(id) + \".pdf\"\n",
    "    send_email(get_email(id), subject, body, attachment_path)\n",
    "    f.value += 1  # signal to increment the progress bar   \n",
    "\n",
    "    "
   ]
  },
  {
   "cell_type": "code",
   "execution_count": null,
   "metadata": {},
   "outputs": [],
   "source": []
  }
 ],
 "metadata": {
  "kernelspec": {
   "display_name": "Python 3",
   "language": "python",
   "name": "python3"
  },
  "language_info": {
   "codemirror_mode": {
    "name": "ipython",
    "version": 3
   },
   "file_extension": ".py",
   "mimetype": "text/x-python",
   "name": "python",
   "nbconvert_exporter": "python",
   "pygments_lexer": "ipython3",
   "version": "3.10.8"
  },
  "orig_nbformat": 4
 },
 "nbformat": 4,
 "nbformat_minor": 2
}
