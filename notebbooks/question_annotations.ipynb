{
 "cells": [
  {
   "cell_type": "markdown",
   "metadata": {},
   "source": [
    "# Create Marking Form\n",
    "1. Convert PDF into images.\n",
    "2. Highlight student's answer"
   ]
  },
  {
   "cell_type": "code",
   "execution_count": 3,
   "metadata": {},
   "outputs": [
    {
     "name": "stdout",
     "output_type": "stream",
     "text": [
      "Hit:1 https://packages.microsoft.com/repos/microsoft-ubuntu-focal-prod focal InRelease\n",
      "Hit:2 https://dl.yarnpkg.com/debian stable InRelease                           \n",
      "Hit:3 https://repo.anaconda.com/pkgs/misc/debrepo/conda stable InRelease       \n",
      "Hit:4 http://archive.ubuntu.com/ubuntu focal InRelease                         \n",
      "Get:5 http://security.ubuntu.com/ubuntu focal-security InRelease [114 kB]      \n",
      "Get:6 http://archive.ubuntu.com/ubuntu focal-updates InRelease [114 kB]        \n",
      "Get:8 http://archive.ubuntu.com/ubuntu focal-backports InRelease [108 kB]      \n",
      "Hit:7 https://packagecloud.io/github/git-lfs/ubuntu focal InRelease\n",
      "Fetched 336 kB in 1s (241 kB/s)\n",
      "Reading package lists... Done\n",
      "Reading package lists... Done\n",
      "Building dependency tree       \n",
      "Reading state information... Done\n",
      "The following additional packages will be installed:\n",
      "  libopenjp2-7 libpoppler97 poppler-data\n",
      "Suggested packages:\n",
      "  ghostscript fonts-japanese-mincho | fonts-ipafont-mincho\n",
      "  fonts-japanese-gothic | fonts-ipafont-gothic fonts-arphic-ukai\n",
      "  fonts-arphic-uming fonts-nanum\n",
      "The following NEW packages will be installed:\n",
      "  libopenjp2-7 libpoppler97 poppler-data poppler-utils\n",
      "0 upgraded, 4 newly installed, 0 to remove and 6 not upgraded.\n",
      "Need to get 2706 kB of archives.\n",
      "After this operation, 17.2 MB of additional disk space will be used.\n",
      "Get:1 http://archive.ubuntu.com/ubuntu focal/main amd64 poppler-data all 0.4.9-2 [1475 kB]\n",
      "Get:2 http://archive.ubuntu.com/ubuntu focal-updates/main amd64 libopenjp2-7 amd64 2.3.1-1ubuntu4.20.04.1 [141 kB]\n",
      "Get:3 http://archive.ubuntu.com/ubuntu focal-updates/main amd64 libpoppler97 amd64 0.86.1-0ubuntu1.1 [916 kB]\n",
      "Get:4 http://archive.ubuntu.com/ubuntu focal-updates/main amd64 poppler-utils amd64 0.86.1-0ubuntu1.1 [174 kB]\n",
      "Fetched 2706 kB in 2s (1615 kB/s)     \n",
      "Selecting previously unselected package poppler-data.\n",
      "(Reading database ... 68076 files and directories currently installed.)\n",
      "Preparing to unpack .../poppler-data_0.4.9-2_all.deb ...\n",
      "Unpacking poppler-data (0.4.9-2) ...\n",
      "Selecting previously unselected package libopenjp2-7:amd64.\n",
      "Preparing to unpack .../libopenjp2-7_2.3.1-1ubuntu4.20.04.1_amd64.deb ...\n",
      "Unpacking libopenjp2-7:amd64 (2.3.1-1ubuntu4.20.04.1) ...\n",
      "Selecting previously unselected package libpoppler97:amd64.\n",
      "Preparing to unpack .../libpoppler97_0.86.1-0ubuntu1.1_amd64.deb ...\n",
      "Unpacking libpoppler97:amd64 (0.86.1-0ubuntu1.1) ...\n",
      "Selecting previously unselected package poppler-utils.\n",
      "Preparing to unpack .../poppler-utils_0.86.1-0ubuntu1.1_amd64.deb ...\n",
      "Unpacking poppler-utils (0.86.1-0ubuntu1.1) ...\n",
      "Setting up poppler-data (0.4.9-2) ...\n",
      "Setting up libopenjp2-7:amd64 (2.3.1-1ubuntu4.20.04.1) ...\n",
      "Setting up libpoppler97:amd64 (0.86.1-0ubuntu1.1) ...\n",
      "Setting up poppler-utils (0.86.1-0ubuntu1.1) ...\n",
      "Processing triggers for libc-bin (2.31-0ubuntu9.9) ...\n",
      "Processing triggers for man-db (2.9.1-1) ...\n",
      "Processing triggers for fontconfig (2.13.1-2ubuntu3) ...\n"
     ]
    }
   ],
   "source": [
    "!sudo apt-get update\n",
    "!sudo apt-get - y install poppler-utils"
   ]
  },
  {
   "cell_type": "code",
   "execution_count": 16,
   "metadata": {},
   "outputs": [],
   "source": [
    "# extrat file name from pdf_file\n",
    "import os\n",
    "pdf_file = \"../data/TestScript.pdf\"\n",
    "file_name = os.path.basename(pdf_file)\n",
    "file_name = os.path.splitext(file_name)[0]\n",
    "base_path = \"../marking_form/\" + file_name\n",
    "base_path_images = base_path + \"/images/\"\n",
    "base_path_annotations = base_path+\"/annotations/\"\n",
    "# create directory tree for base_path_images\n",
    "os.makedirs(base_path_images, exist_ok=True)\n",
    "os.makedirs(base_path_annotations, exist_ok=True)"
   ]
  },
  {
   "cell_type": "markdown",
   "metadata": {},
   "source": [
    "## Convert PDF to JPG"
   ]
  },
  {
   "cell_type": "code",
   "execution_count": 4,
   "metadata": {},
   "outputs": [],
   "source": [
    "# read pdf and convert to images\n",
    "# https://stackoverflow.com/questions/46184239/how-to-convert-pdf-to-image-using-python\n",
    "from pdf2image import convert_from_path\n",
    "import os\n",
    "\n",
    "pages = convert_from_path(pdf_file, 200)\n",
    "# extrat file name from pdf_file\n",
    "file_name = os.path.basename(pdf_file)\n",
    "file_name = os.path.splitext(file_name)[0]\n",
    "\n",
    "for count, page in enumerate(pages):\n",
    "    page.save(f'{base_path_images}{count}.jpg', 'JPEG')"
   ]
  },
  {
   "cell_type": "code",
   "execution_count": 58,
   "metadata": {},
   "outputs": [],
   "source": [
    "import base64\n",
    "import json\n",
    "\n",
    "def reload_from_file(page,path):\n",
    "    # if file not exist, return empty dict\n",
    "    if not os.path.exists(path):\n",
    "        return []       \n",
    "    with open(path, \"r\") as f: \n",
    "        data = json.load(f) \n",
    "    return data[str(page)] if str(page) in data else []\n",
    "\n",
    "def update_json_file(annotations, path):\n",
    "    if not os.path.exists(path):\n",
    "        with open(path, \"w\") as f:\n",
    "            json.dump(annotations, f, indent=4) \n",
    "    else:\n",
    "        with open(path, \"r\") as f:        \n",
    "            data = json.load(f)        \n",
    "        merged = {**data, **annotations}\n",
    "        with open(path, \"w\") as f:\n",
    "            json.dump(merged, f, indent=4) \n",
    "\n",
    "def image_to_data_url(filename):\n",
    "    ext = filename.split(\".\")[-1]\n",
    "    prefix = f\"data:image/{ext};base64,\"\n",
    "    with open(filename, \"rb\") as f:\n",
    "        img = f.read()\n",
    "    return prefix + base64.b64encode(img).decode(\"utf-8\")"
   ]
  },
  {
   "cell_type": "code",
   "execution_count": 63,
   "metadata": {},
   "outputs": [
    {
     "data": {
      "application/vnd.jupyter.widget-view+json": {
       "model_id": "8d470952902b493e8f0325bd6cfa9e4c",
       "version_major": 2,
       "version_minor": 0
      },
      "text/plain": [
       "VBox(children=(HBox(children=(Text(value='', description='Question:', disabled=True, placeholder=''),)), IntPr…"
      ]
     },
     "execution_count": 63,
     "metadata": {},
     "output_type": "execute_result"
    }
   ],
   "source": [
    "from jupyter_bbox_widget import BBoxWidget\n",
    "import ipywidgets as widgets\n",
    "import json\n",
    "import glob\n",
    "import time\n",
    "\n",
    "page = 1\n",
    "pageAndBoxingBoxes={}\n",
    "\n",
    "files = sorted(glob.glob(base_path_images + \"*.jpg\"))\n",
    "\n",
    "annotations = {}\n",
    "timestr = time.strftime(\"%Y%m%d-%H%M%S\")\n",
    "\n",
    "w_progress = widgets.IntProgress(value=0, max=len(files), description=\"Progress\")\n",
    "annotations_path = base_path_annotations + \"annotations.json\"\n",
    "\n",
    "question_widget = widgets.Text(value=\"\", placeholder=\"\", description=\"Question:\")\n",
    "\n",
    "w_bbox = BBoxWidget(\n",
    "    image=image_to_data_url(files[0]),\n",
    "    # classes=[\"question\"],\n",
    ")\n",
    "w_bbox.attach(question_widget, name=\"label\")\n",
    "w_bbox.bboxes = reload_from_file(w_progress.value,annotations_path)\n",
    "\n",
    "# when Skip button is pressed we move on to the next file\n",
    "def on_skip():\n",
    "    w_progress.value += 1\n",
    "    # open new image in the widget\n",
    "    image_file = files[w_progress.value]\n",
    "    w_bbox.image = image_to_data_url(image_file)     \n",
    "    w_bbox.bboxes = reload_from_file(w_progress.value, annotations_path)\n",
    "\n",
    "\n",
    "w_bbox.on_skip(on_skip)\n",
    "\n",
    "# when Submit button is pressed we save current annotations\n",
    "# and then move on to the next file\n",
    "def on_submit():\n",
    "    image_file = files[w_progress.value]\n",
    "    # save annotations for current image\n",
    "    annotations[w_progress.value] = w_bbox.bboxes\n",
    "    update_json_file(annotations, annotations_path)\n",
    "    # move on to the next file\n",
    "    on_skip()\n",
    "\n",
    "\n",
    "w_bbox.on_submit(on_submit)\n",
    "w_out = widgets.Output()\n",
    "\n",
    "def on_bbox_change(change):\n",
    "    w_out.clear_output(wait=True)\n",
    "    with w_out:\n",
    "        print(json.dumps(change[\"new\"], indent=4))\n",
    "        pageAndBoxingBoxes[w_progress.value] = change[\"new\"]\n",
    "\n",
    "\n",
    "w_bbox.observe(on_bbox_change, names=[\"bboxes\"])\n",
    "\n",
    "w_container = widgets.VBox(\n",
    "    [\n",
    "        widgets.HBox(\n",
    "            [\n",
    "                question_widget            \n",
    "            ]\n",
    "        ),\n",
    "        w_progress,\n",
    "        w_bbox,\n",
    "        w_out,\n",
    "    ]\n",
    ")\n",
    "w_container"
   ]
  },
  {
   "cell_type": "code",
   "execution_count": null,
   "metadata": {},
   "outputs": [],
   "source": []
  }
 ],
 "metadata": {
  "kernelspec": {
   "display_name": "Python 3 (ipykernel)",
   "language": "python",
   "name": "python3"
  },
  "language_info": {
   "codemirror_mode": {
    "name": "ipython",
    "version": 3
   },
   "file_extension": ".py",
   "mimetype": "text/x-python",
   "name": "python",
   "nbconvert_exporter": "python",
   "pygments_lexer": "ipython3",
   "version": "3.10.8"
  },
  "orig_nbformat": 4
 },
 "nbformat": 4,
 "nbformat_minor": 2
}
