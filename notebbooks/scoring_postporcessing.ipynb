{
 "cells": [
  {
   "cell_type": "markdown",
   "metadata": {},
   "source": [
    "# Post Processing\n",
    "1. Backup grading result.\n",
    "2. Generate score report.\n",
    "3. Create individual scored pdf.\n",
    "4. Collect samples.\n",
    "5. Email the individual scored pdf."
   ]
  },
  {
   "cell_type": "code",
   "execution_count": 4,
   "metadata": {},
   "outputs": [],
   "source": [
    "pdf_file = \"../data/TestScript.pdf\""
   ]
  },
  {
   "cell_type": "code",
   "execution_count": 20,
   "metadata": {},
   "outputs": [],
   "source": [
    "import os\n",
    "\n",
    "file_name = os.path.basename(pdf_file)\n",
    "file_name = os.path.splitext(file_name)[0]\n",
    "base_path = \"../marking_form/\" + file_name\n",
    "base_path_images = base_path + \"/images/\"\n",
    "base_path_annotations = base_path+\"/annotations/\"\n",
    "base_path_questions = base_path+\"/questions\"\n",
    "\n",
    "base_path_marked_images = base_path + \"/marked/images/\"\n",
    "base_path_marked_pdfs = base_path + \"/marked/pdf/\"\n",
    "base_path_marked_scripts = base_path + \"/marked/scripts/\"\n",
    "os.makedirs(base_path_marked_images, exist_ok=True)\n",
    "os.makedirs(base_path_marked_pdfs, exist_ok=True)\n",
    "os.makedirs(base_path_marked_scripts, exist_ok=True)\n"
   ]
  },
  {
   "cell_type": "markdown",
   "metadata": {},
   "source": [
    "### Remove version history\n",
    "Before you backup."
   ]
  },
  {
   "cell_type": "code",
   "execution_count": 6,
   "metadata": {},
   "outputs": [],
   "source": [
    "import os\n",
    "for path, currentDirectory, files in os.walk(base_path_questions):\n",
    "    for file in files:\n",
    "        if file.startswith(\"control-\") or file.startswith(\"mark-\"):\n",
    "            os.remove(os.path.join(path, file))"
   ]
  },
  {
   "cell_type": "markdown",
   "metadata": {},
   "source": [
    "Zip the website."
   ]
  },
  {
   "cell_type": "code",
   "execution_count": 7,
   "metadata": {},
   "outputs": [
    {
     "data": {
      "text/plain": [
       "'/workspaces/ai-scoring-handwriting-assignment/marking_form/TestScript.zip'"
      ]
     },
     "execution_count": 7,
     "metadata": {},
     "output_type": "execute_result"
    }
   ],
   "source": [
    "import shutil\n",
    "shutil.make_archive(base_path,\"zip\",base_path)"
   ]
  },
  {
   "cell_type": "markdown",
   "metadata": {},
   "source": [
    "# Generate Score Report\n",
    "\n",
    "You must visit the ID and Name pages to verify the values before generate the marksheet."
   ]
  },
  {
   "cell_type": "code",
   "execution_count": 8,
   "metadata": {},
   "outputs": [
    {
     "name": "stdout",
     "output_type": "stream",
     "text": [
      "                  ID           NAME CLASS Q1 Q36 Q37 Q38  Marks\n",
      "200275822  200275822    LEUNGTszHin        0   0   0   0      0\n",
      "200241763  200241763     TAMHinChun        0   0   0   0      0\n",
      "200238088  200238088      LoChunHei     A  1   0   0   0      1\n",
      "200186026  200186026   YUEN WingChu   E&L  0   0   0   0      0\n",
      "200091406  200091406    CHEUNGWaKin   E&L  0   0   0   0      0\n",
      "200035120  200035120   TSANGYukKuer     A  0   1   0   0      1\n",
      "200177460  200177460    YIMWaiChung   EaL  0   0   0   0      0\n",
      "200081960  200081960    HUNGKamFung   E&L  0   0   0   0      0\n",
      "200365446  200365446    CHEUNGHoShi     A  0   0   0   0      0\n",
      "200429237  200429237      LUOMianan     A  0   0   0   0      0\n",
      "200144594  200144594    CHANPakHong        0   0   0   0      0\n",
      "200276566  200276566     NGChunWing        0   0   0   0      0\n",
      "200167780  200167780        LOPakHo   ESL  0   0   0   0      0\n",
      "200133094  200133094       SOKaChun     A  0   0   0   0      0\n",
      "200532530  200532530  KWAN Wing Sze        0   0   0   0      0\n",
      "200048545  200048545     TAIYuenYee        0   0   0   1      1\n",
      "200072256  200072256      LEEHoiSum   ExL  0   1   0   0      1\n",
      "200096278  200096278      HUNGFuTak        0   0   0   0      0\n",
      "200188622  200188622   KAM ChungYiu     A  0   0   0   0      0\n",
      "200529119  200529119      WUTatWing   EcL  0   0   0   0      0\n",
      "200159097  200159097       NGYiuBun   EaL  0   0   0   0      0\n",
      "200169146  200169146    LIYatCheong        0   0   0   0      0\n",
      "200187164  200187164   CHANYiuLeun:     A  0   0   0   0      0\n",
      "200017034  200017034     HOHenryPak     A  0   0   0   0      0\n",
      "200086758  200086758     LILok Heng     B  0   0   0   0      0\n",
      "200012886  200012886     LIUChakTin        0   0   0   0      0\n",
      "200021312  200021312    HUNGTsunChi     A  0   0   0   0      0\n",
      "200237504  200237504    ZHANGJinwei     B  0   0   0   1      1\n",
      "200232139  200232139    SZE-TOMarco        0   0   0   0      0\n",
      "200005883  200005883   CHEUNGHiuWun        0   0   0   0      0\n",
      "200266235  200266235    LAUKwanHung        0   0   0   0      0\n",
      "200119573  200119573     WONGTszHam        0   0   0   0      0\n",
      "200084507  200084507       MOKKaLun   E&L  0   0   0   0      0\n",
      "200169933  200169933      KANTszHei        0   0   0   0      0\n",
      "200236532  200236532        SOHoHin   EcL  0   0   0   0      0\n",
      "200149381  200149381     HUNGYinLun   E&L  0   0   0   0      0\n",
      "200143500  200143500       HANManKi     A  0   0   0   0      0\n",
      "200185933  200185933    PANGChunHun        0   0   0   0      0\n",
      "200189249  200189249    TSOI MingKa        0   0   0   0      0\n",
      "200337380  200337380    LIChaoqiang   EcL  0   0   0   0      0\n",
      "200147191  200147191   WONGShunMinc   E&L  0   0   0   0      0\n",
      "200099220  200099220     CHENGSinOn     B  0   0   0   0      0\n",
      "200169171  200169171     CHANLokHin   E&L  0   0   0   0      0\n",
      "200006867  200006867    TSOIKaiMing        0   0   0   0      0\n",
      "200172741  200172741     CHANWaiHin     B  0   0   0   0      0\n",
      "200035132  200035132    CHONGChunKe     A  0   0   0   0      0\n",
      "200082391  200082391     LAUTszHong        0   0   0   0      0\n",
      "200177527  200177527     CHOWKinMan        0   0   0   0      0\n",
      "200023631  200023631      LINGPoChu     A  0   0   0   0      0\n",
      "200270390  200270390     MANKaiHong   EaL  0   0   0   0      0\n",
      "200228716  200228716    LEUNGChunMi     B  0   0   0   0      0\n",
      "200084821  200084821     LEUNGKaKit     A  0   0   0   0      0\n",
      "200148151  200148151    MAK HongYui     A  0   0   0   0      0\n",
      "200277378  200277378      FONGHoHin     B  0   0   0   0      0\n",
      "200358399  200358399    LAWCho Wing   ESL  1   0   0   0      1\n",
      "200239558  200239558    ZHAOBaichun   EEL  0   0   0   0      0\n",
      "200095386  200095386   CHEUNGChunHe   E&L  0   0   0   1      1\n"
     ]
    }
   ],
   "source": [
    "import os\n",
    "import json\n",
    "import pandas as pd\n",
    "from termcolor import colored\n",
    "\n",
    "pageToStudentId = {}\n",
    "\n",
    "# read base_path_annotations\n",
    "with open(os.path.join(base_path_annotations, \"annotations.json\")) as f:\n",
    "    data = json.load(f)\n",
    "    # data is a dict and get the number of items\n",
    "numberOfPage = len(data)\n",
    "\n",
    "with open(os.path.join(base_path_questions, \"ID\", \"mark.json\")) as f:\n",
    "    data = json.load(f)\n",
    "    for i in data:\n",
    "        pageToStudentId[i[\"id\"]] = (\n",
    "            i[\"overridedMark\"] if i[\"overridedMark\"] != \"\" else i[\"mark\"]\n",
    "        )\n",
    "\n",
    "\n",
    "def getStudentId(page):\n",
    "    # search reverse for the student ID page.\n",
    "    for p in range(page, page - numberOfPage, -1):\n",
    "        if str(p) in pageToStudentId:\n",
    "            return pageToStudentId[str(p)]\n",
    "    print(colored(\"{} is not in pageToStudentId!\".format(page), \"red\"))\n",
    "    return None\n",
    "\n",
    "\n",
    "questionAndMarks = {}\n",
    "for path, currentDirectory, files in os.walk(base_path_questions):\n",
    "    for file in files:\n",
    "        if file == \"mark.json\":\n",
    "            question = path[len(base_path_questions) + 1 :]\n",
    "            f = open(os.path.join(path, file))\n",
    "            data = json.load(f)\n",
    "            marks = {}\n",
    "            for i in data:\n",
    "                studentId = getStudentId(int(i[\"id\"]))\n",
    "                marks[studentId] = (\n",
    "                    i[\"overridedMark\"] if i[\"overridedMark\"] != \"\" else i[\"mark\"]\n",
    "                )\n",
    "            questionAndMarks[question] = marks\n",
    "            f.close()\n",
    "marksDf = pd.DataFrame(questionAndMarks)\n",
    "marksDf = marksDf[\n",
    "    [\"ID\", \"NAME\", \"CLASS\"]\n",
    "    + [\n",
    "        col\n",
    "        for col in sorted(marksDf.columns)\n",
    "        if col != \"ID\" and col != \"NAME\" and col != \"CLASS\"\n",
    "    ]\n",
    "]\n",
    "\n",
    "marksDf[\"Marks\"] = (\n",
    "    marksDf.loc[:, ~marksDf.columns.isin([\"ID\", \"NAME\", \"CLASS\"])]\n",
    "    .apply(pd.to_numeric)\n",
    "    .sum(axis=1)\n",
    ")\n",
    "print(marksDf)"
   ]
  },
  {
   "cell_type": "markdown",
   "metadata": {},
   "source": [
    "# Create Scored Scripts"
   ]
  },
  {
   "cell_type": "markdown",
   "metadata": {},
   "source": [
    "Copy raw images to marked folder"
   ]
  },
  {
   "cell_type": "code",
   "execution_count": 9,
   "metadata": {},
   "outputs": [
    {
     "data": {
      "text/plain": [
       "'../marking_form/TestScript/marked/images/'"
      ]
     },
     "execution_count": 9,
     "metadata": {},
     "output_type": "execute_result"
    }
   ],
   "source": [
    "import shutil\n",
    "import os\n",
    "\n",
    "if os.path.exists(base_path_marked_images):\n",
    "    shutil.rmtree(base_path_marked_images)\n",
    "shutil.copytree(base_path_images, base_path_marked_images)"
   ]
  },
  {
   "cell_type": "code",
   "execution_count": 12,
   "metadata": {},
   "outputs": [
    {
     "data": {
      "text/plain": [
       "{'NAME': {'width': 322,\n",
       "  'height': 77,\n",
       "  'label': 'NAME',\n",
       "  'page': 0,\n",
       "  'left': 238,\n",
       "  'top': 173},\n",
       " 'ID': {'width': 471,\n",
       "  'height': 83,\n",
       "  'label': 'ID',\n",
       "  'page': 0,\n",
       "  'left': 175,\n",
       "  'top': 259},\n",
       " 'CLASS': {'width': 168,\n",
       "  'height': 91,\n",
       "  'label': 'CLASS',\n",
       "  'page': 0,\n",
       "  'left': 835,\n",
       "  'top': 248},\n",
       " 'Q1': {'width': 322,\n",
       "  'height': 111,\n",
       "  'label': 'Q1',\n",
       "  'page': 0,\n",
       "  'left': 164,\n",
       "  'top': 344},\n",
       " 'Q36': {'width': 347,\n",
       "  'height': 138,\n",
       "  'label': 'Q36',\n",
       "  'page': 1,\n",
       "  'left': 184,\n",
       "  'top': 482},\n",
       " 'Q37': {'width': 410,\n",
       "  'height': 150,\n",
       "  'label': 'Q37',\n",
       "  'page': 1,\n",
       "  'left': 665,\n",
       "  'top': 460},\n",
       " 'Q38': {'width': 384,\n",
       "  'height': 143,\n",
       "  'label': 'Q38',\n",
       "  'page': 1,\n",
       "  'left': 1166,\n",
       "  'top': 473}}"
      ]
     },
     "execution_count": 12,
     "metadata": {},
     "output_type": "execute_result"
    }
   ],
   "source": [
    "import json\n",
    "annotations_path = base_path_annotations + \"annotations.json\"\n",
    "with open(annotations_path, \"r\") as f: \n",
    "    annotations = json.load(f)          \n",
    "\n",
    "#flatten annotations to list \n",
    "annotations_list = []\n",
    "for page in annotations:\n",
    "    for annotation in annotations[page]:\n",
    "        annotation[\"page\"] = int(page)\n",
    "        # x to left, y to top\n",
    "        annotation[\"left\"] = annotation[\"x\"]\n",
    "        annotation[\"top\"] = annotation[\"y\"]\n",
    "        annotation.pop(\"x\")\n",
    "        annotation.pop(\"y\")\n",
    "        annotations_list.append(annotation) \n",
    "annotations_list\n",
    "\n",
    "# convert annotations_list to dict with key with label\n",
    "annotations_dict = {}\n",
    "for annotation in annotations_list:\n",
    "    annotations_dict[annotation[\"label\"]] = annotation\n",
    "annotations_dict\n"
   ]
  },
  {
   "cell_type": "code",
   "execution_count": 10,
   "metadata": {},
   "outputs": [
    {
     "data": {
      "text/plain": [
       "{'200012886': 0,\n",
       " '200238088': 10,\n",
       " '200021312': 100,\n",
       " '200017034': 102,\n",
       " '200237504': 104,\n",
       " '200232139': 106,\n",
       " '200005883': 108,\n",
       " '200532530': 110,\n",
       " '200144594': 112,\n",
       " '200048545': 12,\n",
       " '200072256': 14,\n",
       " '200266235': 16,\n",
       " '200119573': 18,\n",
       " '200365446': 2,\n",
       " '200096278': 20,\n",
       " '200084507': 22,\n",
       " '200169933': 24,\n",
       " '200236532': 26,\n",
       " '200149381': 28,\n",
       " '200143500': 30,\n",
       " '200188622': 32,\n",
       " '200185933': 34,\n",
       " '200167780': 36,\n",
       " '200189249': 38,\n",
       " '200147191': 4,\n",
       " '200337380': 40,\n",
       " '200186026': 42,\n",
       " '200429237': 44,\n",
       " '200159097': 46,\n",
       " '200529119': 48,\n",
       " '200099220': 50,\n",
       " '200169146': 52,\n",
       " '200169171': 54,\n",
       " '200133094': 56,\n",
       " '200276566': 58,\n",
       " '200035132': 6,\n",
       " '200091406': 60,\n",
       " '200006867': 62,\n",
       " '200035120': 64,\n",
       " '200275822': 66,\n",
       " '200172741': 68,\n",
       " '200082391': 70,\n",
       " '200086758': 72,\n",
       " '200241763': 74,\n",
       " '200177527': 76,\n",
       " '200023631': 78,\n",
       " '200177460': 8,\n",
       " '200270390': 80,\n",
       " '200228716': 82,\n",
       " '200084821': 84,\n",
       " '200187164': 86,\n",
       " '200081960': 88,\n",
       " '200148151': 90,\n",
       " '200277378': 92,\n",
       " '200358399': 94,\n",
       " '200239558': 96,\n",
       " '200095386': 98}"
      ]
     },
     "execution_count": 10,
     "metadata": {},
     "output_type": "execute_result"
    }
   ],
   "source": [
    "studentIdToPage={}\n",
    "with open(os.path.join(base_path_questions, \"ID\", \"mark.json\")) as f:\n",
    "    data = json.load(f)\n",
    "    for i in data:\n",
    "        studentId = i[\"overridedMark\"] if i[\"overridedMark\"] != \"\" else i[\"mark\"]\n",
    "        studentIdToPage[studentId] = int(i[\"id\"])\n",
    "studentIdToPage\n"
   ]
  },
  {
   "cell_type": "code",
   "execution_count": 13,
   "metadata": {},
   "outputs": [
    {
     "data": {
      "application/vnd.jupyter.widget-view+json": {
       "model_id": "dbc37b9b340e49a2a5ec978c4f28b97b",
       "version_major": 2,
       "version_minor": 0
      },
      "text/plain": [
       "IntProgress(value=0, max=57)"
      ]
     },
     "metadata": {},
     "output_type": "display_data"
    }
   ],
   "source": [
    "import cv2\n",
    "from IPython.display import display\n",
    "from ipywidgets import IntProgress\n",
    "\n",
    "\n",
    "# Covert marksDf to dict\n",
    "marksDf_list = marksDf.to_dict(orient=\"records\")\n",
    "\n",
    "f = IntProgress(min=0, max=len(marksDf_list))  # instantiate the bar\n",
    "display(f)  # display the bar\n",
    "\n",
    "for student in marksDf_list:\n",
    "    first_page = studentIdToPage[student[\"ID\"]]\n",
    "    for annotation in annotations_dict:\n",
    "        value = student[annotation]\n",
    "        x = annotations_dict[annotation][\"left\"]\n",
    "        y = annotations_dict[annotation][\"top\"]\n",
    "        page = first_page + annotations_dict[annotation][\"page\"]\n",
    "      \n",
    "        image_path = base_path_marked_images + str(page) + \".jpg\"\n",
    "        # print(value, x, y, imagePath)\n",
    "        img = cv2.imread(image_path)\n",
    "        cv2.putText(img, str(value), (x, y), cv2.FONT_HERSHEY_SIMPLEX, 1, (0, 0, 255), 2)\n",
    "        cv2.imwrite(image_path, img)\n",
    "    f.value += 1      \n",
    "\n"
   ]
  },
  {
   "cell_type": "code",
   "execution_count": 14,
   "metadata": {},
   "outputs": [
    {
     "name": "stdout",
     "output_type": "stream",
     "text": [
      "200275822 66 67\n",
      "200241763 74 75\n",
      "200238088 10 11\n",
      "200186026 42 43\n",
      "200091406 60 61\n",
      "200035120 64 65\n",
      "200177460 8 9\n",
      "200081960 88 89\n",
      "200365446 2 3\n",
      "200429237 44 45\n",
      "200144594 112 113\n",
      "200276566 58 59\n",
      "200167780 36 37\n",
      "200133094 56 57\n",
      "200532530 110 111\n",
      "200048545 12 13\n",
      "200072256 14 15\n",
      "200096278 20 21\n",
      "200188622 32 33\n",
      "200529119 48 49\n",
      "200159097 46 47\n",
      "200169146 52 53\n",
      "200187164 86 87\n",
      "200017034 102 103\n",
      "200086758 72 73\n",
      "200012886 0 1\n",
      "200021312 100 101\n",
      "200237504 104 105\n",
      "200232139 106 107\n",
      "200005883 108 109\n",
      "200266235 16 17\n",
      "200119573 18 19\n",
      "200084507 22 23\n",
      "200169933 24 25\n",
      "200236532 26 27\n",
      "200149381 28 29\n",
      "200143500 30 31\n",
      "200185933 34 35\n",
      "200189249 38 39\n",
      "200337380 40 41\n",
      "200147191 4 5\n",
      "200099220 50 51\n",
      "200169171 54 55\n",
      "200006867 62 63\n",
      "200172741 68 69\n",
      "200035132 6 7\n",
      "200082391 70 71\n",
      "200177527 76 77\n",
      "200023631 78 79\n",
      "200270390 80 81\n",
      "200228716 82 83\n",
      "200084821 84 85\n",
      "200148151 90 91\n",
      "200277378 92 93\n",
      "200358399 94 95\n",
      "200239558 96 97\n",
      "200095386 98 99\n"
     ]
    }
   ],
   "source": [
    "from PIL import Image\n",
    "\n",
    "for student in marksDf_list:\n",
    "    studentId = student[\"ID\"]\n",
    "    first_page = studentIdToPage[student[\"ID\"]]\n",
    "    last_page = first_page + numberOfPage - 1\n",
    "    print(studentId, first_page, last_page)\n",
    "    pdf_path = base_path_marked_pdfs + studentId + \".pdf\"\n",
    "\n",
    "    images = list(map(Image.open, [base_path_marked_images + str(i) + \".jpg\" for i in range(first_page, last_page + 1)]))\n",
    "    images[0].save(pdf_path, save_all=True, append_images=images[1:]) \n",
    "        "
   ]
  },
  {
   "cell_type": "markdown",
   "metadata": {},
   "source": [
    "# Generate Script Sample\n",
    "\n",
    "5 set Samples:\n",
    "1. Combined scripts\n",
    "2. 3 Good, 3 Average, and 3 Weak.\n",
    "3. 5 Good, 5 Average, and 5 Weak.\n",
    "4. 3 Good, 3 Average, and 3 Weak above the passing mark.\n",
    "5. 5 Good, 5 Average, and 5 Weak above the passing mark. "
   ]
  },
  {
   "cell_type": "code",
   "execution_count": 15,
   "metadata": {},
   "outputs": [],
   "source": [
    "passingMark = 0"
   ]
  },
  {
   "cell_type": "code",
   "execution_count": 23,
   "metadata": {},
   "outputs": [],
   "source": [
    "from PyPDF4 import PdfFileMerger\n",
    "\n",
    "writer = PdfFileMerger(strict=True)\n",
    "\n",
    "# merge all pdfs in base_path_marked_pdfs\n",
    "for path, currentDirectory, files in os.walk(base_path_marked_pdfs):\n",
    "    for file in files:\n",
    "        if file.endswith(\".pdf\"):\n",
    "            pdf_path = os.path.join(path, file)\n",
    "            writer.append(pdf_path)\n",
    "writer.write(base_path_marked_scripts + \"all.pdf\")           "
   ]
  },
  {
   "cell_type": "code",
   "execution_count": 22,
   "metadata": {},
   "outputs": [
    {
     "name": "stdout",
     "output_type": "stream",
     "text": [
      "Output successfully written to../marking_form/TestScript/marked/scripts/sampleOf3.pdf\n",
      "Output successfully written to../marking_form/TestScript/marked/scripts/sampleOf5.pdf\n",
      "Output successfully written to../marking_form/TestScript/marked/scripts/sampleOf3_only_pass.pdf\n",
      "Output successfully written to../marking_form/TestScript/marked/scripts/sampleOf5_only_pass.pdf\n"
     ]
    }
   ],
   "source": [
    "from PyPDF4 import PdfFileMerger, PdfFileReader\n",
    "\n",
    "sampling = marksDf.sort_values(by=[\"Marks\"], ascending=False)[\"Marks\"]\n",
    "\n",
    "from_directory = os.path.join(os.getcwd(), \"..\", \"templates\", \"pdf\")\n",
    "\n",
    "goodPage = PdfFileReader(from_directory + \"/Good.pdf\")\n",
    "averagePage = PdfFileReader(from_directory + \"/Average.pdf\")\n",
    "weakPage = PdfFileReader(from_directory + \"/Weak.pdf\")\n",
    "\n",
    "\n",
    "def get_scripts_psf(df):\n",
    "    return list(map(lambda rowNumber: base_path_marked_pdfs + rowNumber + \".pdf\", df.index))\n",
    "\n",
    "\n",
    "def take_sample(n, sampling, suffix=\"\"):\n",
    "    if len(sampling) < 3 * n:\n",
    "        n = int(len(sampling) / 3)\n",
    "    good = sampling.head(n)\n",
    "    weak = sampling.tail(n)\n",
    "    median = int(len(sampling) / 2)\n",
    "    take = int(n / 2)\n",
    "    average = sampling.iloc[median - take : median + take]\n",
    "\n",
    "    merger = PdfFileMerger()\n",
    "    merger.append(goodPage)\n",
    "    for pdf in get_scripts_psf(good):\n",
    "        merger.append(PdfFileReader(pdf))\n",
    "    merger.append(averagePage)\n",
    "    for pdf in get_scripts_psf(average):\n",
    "        merger.append(PdfFileReader(pdf))\n",
    "    merger.append(weakPage)\n",
    "    for pdf in get_scripts_psf(weak):\n",
    "        merger.append(PdfFileReader(pdf))\n",
    "    fileName = base_path_marked_scripts + \"sampleOf\" + str(n) + suffix + \".pdf\"\n",
    "    merger.write(open(fileName, \"wb\"))\n",
    "    print(\"Output successfully written to\" + fileName)\n",
    "    merger.close()\n",
    "\n",
    "\n",
    "take_sample(3, sampling)\n",
    "take_sample(5, sampling)\n",
    "\n",
    "sampling = sampling.where(lambda x: x > passingMark)\n",
    "take_sample(3, sampling, \"_only_pass\")\n",
    "take_sample(5, sampling, \"_only_pass\")\n"
   ]
  },
  {
   "cell_type": "code",
   "execution_count": 25,
   "metadata": {},
   "outputs": [],
   "source": [
    "# save marksDf to excel\n",
    "marksDf.to_excel(base_path_marked_scripts + \"details_score_report.xlsx\", index=False)\n",
    "# save marksDf to excel but only show ID, NAME, CLASS, Marks\n",
    "marksDf[[\"ID\", \"NAME\", \"CLASS\", \"Marks\"]].to_excel(base_path_marked_scripts + \"score_report.xlsx\", index=False)"
   ]
  },
  {
   "cell_type": "code",
   "execution_count": 34,
   "metadata": {},
   "outputs": [
    {
     "data": {
      "text/html": [
       "<a href='../marking_form/TestScript/marked/scripts/../scripts.zip' target='_blank'>../marking_form/TestScript/marked/scripts/../scripts.zip</a><br>"
      ],
      "text/plain": [
       "/workspaces/ai-scoring-handwriting-assignment/marking_form/TestScript/marked/scripts.zip"
      ]
     },
     "execution_count": 34,
     "metadata": {},
     "output_type": "execute_result"
    }
   ],
   "source": [
    "from IPython.display import FileLink \n",
    "\n",
    "# zip base_path_marked_scripts folder\n",
    "script_zip = base_path_marked_scripts + \"../scripts\"\n",
    "shutil.make_archive(script_zip, \"zip\", base_path_marked_scripts)\n",
    "FileLink(script_zip + \".zip\")"
   ]
  }
 ],
 "metadata": {
  "kernelspec": {
   "display_name": "Python 3",
   "language": "python",
   "name": "python3"
  },
  "language_info": {
   "codemirror_mode": {
    "name": "ipython",
    "version": 3
   },
   "file_extension": ".py",
   "mimetype": "text/x-python",
   "name": "python",
   "nbconvert_exporter": "python",
   "pygments_lexer": "ipython3",
   "version": "3.10.8"
  },
  "orig_nbformat": 4
 },
 "nbformat": 4,
 "nbformat_minor": 2
}
