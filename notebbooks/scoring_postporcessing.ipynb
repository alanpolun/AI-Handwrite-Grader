{
 "cells": [
  {
   "cell_type": "markdown",
   "metadata": {},
   "source": [
    "# Post Processing\n",
    "1. Backup grading result.\n",
    "2. Generate score report.\n",
    "3. Create individual scored pdf.\n",
    "4. Collect samples.\n",
    "5. Email the individual scored pdf."
   ]
  },
  {
   "cell_type": "code",
   "execution_count": 2,
   "metadata": {},
   "outputs": [],
   "source": [
    "pdf_file = \"../data/TestScript.pdf\""
   ]
  },
  {
   "cell_type": "code",
   "execution_count": 28,
   "metadata": {},
   "outputs": [],
   "source": [
    "import os\n",
    "\n",
    "file_name = os.path.basename(pdf_file)\n",
    "file_name = os.path.splitext(file_name)[0]\n",
    "base_path = \"../marking_form/\" + file_name\n",
    "base_path_images = base_path + \"/images/\"\n",
    "base_path_annotations = base_path+\"/annotations/\"\n",
    "base_path_questions = base_path+\"/questions\"\n",
    "\n",
    "base_path_marked_images = base_path + \"/marked/images/\"\n",
    "os.makedirs(base_path_marked_images, exist_ok=True)"
   ]
  },
  {
   "cell_type": "markdown",
   "metadata": {},
   "source": [
    "### Remove version history\n",
    "Before you backup."
   ]
  },
  {
   "cell_type": "code",
   "execution_count": 5,
   "metadata": {},
   "outputs": [],
   "source": [
    "import os\n",
    "for path, currentDirectory, files in os.walk(base_path_questions):\n",
    "    for file in files:\n",
    "        if file.startswith(\"control-\") or file.startswith(\"mark-\"):\n",
    "            os.remove(os.path.join(path, file))"
   ]
  },
  {
   "cell_type": "markdown",
   "metadata": {},
   "source": [
    "Zip the website."
   ]
  },
  {
   "cell_type": "code",
   "execution_count": 6,
   "metadata": {},
   "outputs": [
    {
     "data": {
      "text/plain": [
       "'/workspaces/ai-scoring-handwriting-assignment/marking_form/TestScript.zip'"
      ]
     },
     "execution_count": 6,
     "metadata": {},
     "output_type": "execute_result"
    }
   ],
   "source": [
    "import shutil\n",
    "shutil.make_archive(base_path,\"zip\",base_path)"
   ]
  },
  {
   "cell_type": "markdown",
   "metadata": {},
   "source": [
    "# Generate Score Report\n",
    "\n",
    "You must visit the ID and Name pages to verify the values before generate the marksheet."
   ]
  },
  {
   "cell_type": "code",
   "execution_count": 27,
   "metadata": {},
   "outputs": [
    {
     "name": "stdout",
     "output_type": "stream",
     "text": [
      "                  ID           NAME CLASS Q1 Q36 Q37 Q38  Marks\n",
      "200275822  200275822    LEUNGTszHin        0   0   0   0      0\n",
      "200241763  200241763     TAMHinChun        0   0   0   0      0\n",
      "200238088  200238088      LoChunHei     A  1   0   0   0      1\n",
      "200186026  200186026   YUEN WingChu   E&L  0   0   0   0      0\n",
      "200091406  200091406    CHEUNGWaKin   E&L  0   0   0   0      0\n",
      "200035120  200035120   TSANGYukKuer     A  0   1   0   0      1\n",
      "200177460  200177460    YIMWaiChung   EaL  0   0   0   0      0\n",
      "200081960  200081960    HUNGKamFung   E&L  0   0   0   0      0\n",
      "200365446  200365446    CHEUNGHoShi     A  0   0   0   0      0\n",
      "200429237  200429237      LUOMianan     A  0   0   0   0      0\n",
      "200144594  200144594    CHANPakHong        0   0   0   0      0\n",
      "200276566  200276566     NGChunWing        0   0   0   0      0\n",
      "200167780  200167780        LOPakHo   ESL  0   0   0   0      0\n",
      "200133094  200133094       SOKaChun     A  0   0   0   0      0\n",
      "200532530  200532530  KWAN Wing Sze        0   0   0   0      0\n",
      "200048545  200048545     TAIYuenYee        0   0   0   1      1\n",
      "200072256  200072256      LEEHoiSum   ExL  0   1   0   0      1\n",
      "200096278  200096278      HUNGFuTak        0   0   0   0      0\n",
      "200188622  200188622   KAM ChungYiu     A  0   0   0   0      0\n",
      "200529119  200529119      WUTatWing   EcL  0   0   0   0      0\n",
      "200159097  200159097       NGYiuBun   EaL  0   0   0   0      0\n",
      "200169146  200169146    LIYatCheong        0   0   0   0      0\n",
      "200187164  200187164   CHANYiuLeun:     A  0   0   0   0      0\n",
      "200017034  200017034     HOHenryPak     A  0   0   0   0      0\n",
      "200086758  200086758     LILok Heng     B  0   0   0   0      0\n",
      "200012886  200012886     LIUChakTin        0   0   0   0      0\n",
      "200021312  200021312    HUNGTsunChi     A  0   0   0   0      0\n",
      "200237504  200237504    ZHANGJinwei     B  0   0   0   1      1\n",
      "200232139  200232139    SZE-TOMarco        0   0   0   0      0\n",
      "200005883  200005883   CHEUNGHiuWun        0   0   0   0      0\n",
      "200266235  200266235    LAUKwanHung        0   0   0   0      0\n",
      "200119573  200119573     WONGTszHam        0   0   0   0      0\n",
      "200084507  200084507       MOKKaLun   E&L  0   0   0   0      0\n",
      "200169933  200169933      KANTszHei        0   0   0   0      0\n",
      "200236532  200236532        SOHoHin   EcL  0   0   0   0      0\n",
      "200149381  200149381     HUNGYinLun   E&L  0   0   0   0      0\n",
      "200143500  200143500       HANManKi     A  0   0   0   0      0\n",
      "200185933  200185933    PANGChunHun        0   0   0   0      0\n",
      "200189249  200189249    TSOI MingKa        0   0   0   0      0\n",
      "200337380  200337380    LIChaoqiang   EcL  0   0   0   0      0\n",
      "200147191  200147191   WONGShunMinc   E&L  0   0   0   0      0\n",
      "200099220  200099220     CHENGSinOn     B  0   0   0   0      0\n",
      "200169171  200169171     CHANLokHin   E&L  0   0   0   0      0\n",
      "200006867  200006867    TSOIKaiMing        0   0   0   0      0\n",
      "200172741  200172741     CHANWaiHin     B  0   0   0   0      0\n",
      "200035132  200035132    CHONGChunKe     A  0   0   0   0      0\n",
      "200082391  200082391     LAUTszHong        0   0   0   0      0\n",
      "200177527  200177527     CHOWKinMan        0   0   0   0      0\n",
      "200023631  200023631      LINGPoChu     A  0   0   0   0      0\n",
      "200270390  200270390     MANKaiHong   EaL  0   0   0   0      0\n",
      "200228716  200228716    LEUNGChunMi     B  0   0   0   0      0\n",
      "200084821  200084821     LEUNGKaKit     A  0   0   0   0      0\n",
      "200148151  200148151    MAK HongYui     A  0   0   0   0      0\n",
      "200277378  200277378      FONGHoHin     B  0   0   0   0      0\n",
      "200358399  200358399    LAWCho Wing   ESL  1   0   0   0      1\n",
      "200239558  200239558    ZHAOBaichun   EEL  0   0   0   0      0\n",
      "200095386  200095386   CHEUNGChunHe   E&L  0   0   0   1      1\n"
     ]
    }
   ],
   "source": [
    "import os\n",
    "import json\n",
    "import pandas as pd\n",
    "from termcolor import colored\n",
    "\n",
    "pageToStudentId = {}\n",
    "\n",
    "# read base_path_annotations\n",
    "with open(os.path.join(base_path_annotations, \"annotations.json\")) as f:\n",
    "    data = json.load(f)\n",
    "    # data is a dict and get the number of items\n",
    "numberOfPage = len(data)\n",
    "\n",
    "with open(os.path.join(base_path_questions, \"ID\", \"mark.json\")) as f:\n",
    "    data = json.load(f)\n",
    "    for i in data:\n",
    "        pageToStudentId[i[\"id\"]] = (\n",
    "            i[\"overridedMark\"] if i[\"overridedMark\"] != \"\" else i[\"mark\"]\n",
    "        )\n",
    "\n",
    "def getStudentId(page):\n",
    "    # search reverse for the student ID page.\n",
    "    for p in range(page, page - numberOfPage, -1):\n",
    "        if str(p) in pageToStudentId:\n",
    "            return pageToStudentId[str(p)]\n",
    "    print(colored(\"{} is not in pageToStudentId!\".format(page), \"red\"))\n",
    "    return None\n",
    "\n",
    "questionAndMarks = {}\n",
    "for path, currentDirectory, files in os.walk(base_path_questions):\n",
    "    for file in files:\n",
    "        if file == \"mark.json\":\n",
    "            question = path[len(base_path_questions) + 1 :]\n",
    "            f = open(os.path.join(path, file))\n",
    "            data = json.load(f)\n",
    "            marks = {}\n",
    "            for i in data:\n",
    "                studentId = getStudentId(int(i[\"id\"]))\n",
    "                marks[studentId] = (\n",
    "                    i[\"overridedMark\"] if i[\"overridedMark\"] != \"\" else i[\"mark\"]\n",
    "                )\n",
    "            questionAndMarks[question] = marks\n",
    "            f.close()\n",
    "marksDf = pd.DataFrame(questionAndMarks)\n",
    "marksDf = marksDf[\n",
    "    [\"ID\", \"NAME\", \"CLASS\"]\n",
    "    + [\n",
    "        col\n",
    "        for col in sorted(marksDf.columns)\n",
    "        if col != \"ID\" and col != \"NAME\" and col != \"CLASS\"\n",
    "    ]\n",
    "]\n",
    "\n",
    "marksDf[\"Marks\"] = (\n",
    "    marksDf.loc[:, ~marksDf.columns.isin([\"ID\", \"NAME\", \"CLASS\"])]\n",
    "    .apply(pd.to_numeric)\n",
    "    .sum(axis=1)\n",
    ")\n",
    "print(marksDf)"
   ]
  },
  {
   "cell_type": "markdown",
   "metadata": {},
   "source": [
    "# Create Scored Scripts"
   ]
  },
  {
   "cell_type": "code",
   "execution_count": 31,
   "metadata": {},
   "outputs": [
    {
     "data": {
      "text/plain": [
       "'../marking_form/TestScript/marked/images/'"
      ]
     },
     "execution_count": 31,
     "metadata": {},
     "output_type": "execute_result"
    }
   ],
   "source": [
    "import shutil\n",
    "import os\n",
    "\n",
    "if os.path.exists(base_path_marked_images):\n",
    "    shutil.rmtree(base_path_marked_images)\n",
    "shutil.copytree(base_path_images, base_path_marked_images)"
   ]
  },
  {
   "cell_type": "code",
   "execution_count": 35,
   "metadata": {},
   "outputs": [
    {
     "data": {
      "text/plain": [
       "{'NAME': {'width': 322,\n",
       "  'height': 77,\n",
       "  'label': 'NAME',\n",
       "  'page': 0,\n",
       "  'left': 238,\n",
       "  'top': 173},\n",
       " 'ID': {'width': 471,\n",
       "  'height': 83,\n",
       "  'label': 'ID',\n",
       "  'page': 0,\n",
       "  'left': 175,\n",
       "  'top': 259},\n",
       " 'CLASS': {'width': 168,\n",
       "  'height': 91,\n",
       "  'label': 'CLASS',\n",
       "  'page': 0,\n",
       "  'left': 835,\n",
       "  'top': 248},\n",
       " 'Q1': {'width': 322,\n",
       "  'height': 111,\n",
       "  'label': 'Q1',\n",
       "  'page': 0,\n",
       "  'left': 164,\n",
       "  'top': 344},\n",
       " 'Q36': {'width': 347,\n",
       "  'height': 138,\n",
       "  'label': 'Q36',\n",
       "  'page': 1,\n",
       "  'left': 184,\n",
       "  'top': 482},\n",
       " 'Q37': {'width': 410,\n",
       "  'height': 150,\n",
       "  'label': 'Q37',\n",
       "  'page': 1,\n",
       "  'left': 665,\n",
       "  'top': 460},\n",
       " 'Q38': {'width': 384,\n",
       "  'height': 143,\n",
       "  'label': 'Q38',\n",
       "  'page': 1,\n",
       "  'left': 1166,\n",
       "  'top': 473}}"
      ]
     },
     "execution_count": 35,
     "metadata": {},
     "output_type": "execute_result"
    }
   ],
   "source": [
    "import json\n",
    "annotations_path = base_path_annotations + \"annotations.json\"\n",
    "with open(annotations_path, \"r\") as f: \n",
    "    annotations = json.load(f)          \n",
    "\n",
    "#flatten annotations to list \n",
    "annotations_list = []\n",
    "for page in annotations:\n",
    "    for annotation in annotations[page]:\n",
    "        annotation[\"page\"] = int(page)\n",
    "        # x to left, y to top\n",
    "        annotation[\"left\"] = annotation[\"x\"]\n",
    "        annotation[\"top\"] = annotation[\"y\"]\n",
    "        annotation.pop(\"x\")\n",
    "        annotation.pop(\"y\")\n",
    "        annotations_list.append(annotation) \n",
    "annotations_list\n",
    "\n",
    "# convert annotations_list to dict with key with label\n",
    "annotations_dict = {}\n",
    "for annotation in annotations_list:\n",
    "    annotations_dict[annotation[\"label\"]] = annotation\n",
    "annotations_dict\n"
   ]
  },
  {
   "cell_type": "code",
   "execution_count": 34,
   "metadata": {},
   "outputs": [
    {
     "data": {
      "text/plain": [
       "{'200012886': 0,\n",
       " '200238088': 10,\n",
       " '200021312': 100,\n",
       " '200017034': 102,\n",
       " '200237504': 104,\n",
       " '200232139': 106,\n",
       " '200005883': 108,\n",
       " '200532530': 110,\n",
       " '200144594': 112,\n",
       " '200048545': 12,\n",
       " '200072256': 14,\n",
       " '200266235': 16,\n",
       " '200119573': 18,\n",
       " '200365446': 2,\n",
       " '200096278': 20,\n",
       " '200084507': 22,\n",
       " '200169933': 24,\n",
       " '200236532': 26,\n",
       " '200149381': 28,\n",
       " '200143500': 30,\n",
       " '200188622': 32,\n",
       " '200185933': 34,\n",
       " '200167780': 36,\n",
       " '200189249': 38,\n",
       " '200147191': 4,\n",
       " '200337380': 40,\n",
       " '200186026': 42,\n",
       " '200429237': 44,\n",
       " '200159097': 46,\n",
       " '200529119': 48,\n",
       " '200099220': 50,\n",
       " '200169146': 52,\n",
       " '200169171': 54,\n",
       " '200133094': 56,\n",
       " '200276566': 58,\n",
       " '200035132': 6,\n",
       " '200091406': 60,\n",
       " '200006867': 62,\n",
       " '200035120': 64,\n",
       " '200275822': 66,\n",
       " '200172741': 68,\n",
       " '200082391': 70,\n",
       " '200086758': 72,\n",
       " '200241763': 74,\n",
       " '200177527': 76,\n",
       " '200023631': 78,\n",
       " '200177460': 8,\n",
       " '200270390': 80,\n",
       " '200228716': 82,\n",
       " '200084821': 84,\n",
       " '200187164': 86,\n",
       " '200081960': 88,\n",
       " '200148151': 90,\n",
       " '200277378': 92,\n",
       " '200358399': 94,\n",
       " '200239558': 96,\n",
       " '200095386': 98}"
      ]
     },
     "execution_count": 34,
     "metadata": {},
     "output_type": "execute_result"
    }
   ],
   "source": [
    "studentIdToPage={}\n",
    "with open(os.path.join(base_path_questions, \"ID\", \"mark.json\")) as f:\n",
    "    data = json.load(f)\n",
    "    for i in data:\n",
    "        studentId = i[\"overridedMark\"] if i[\"overridedMark\"] != \"\" else i[\"mark\"]\n",
    "        studentIdToPage[studentId] = int(i[\"id\"])\n",
    "studentIdToPage\n"
   ]
  },
  {
   "cell_type": "code",
   "execution_count": null,
   "metadata": {},
   "outputs": [],
   "source": []
  }
 ],
 "metadata": {
  "kernelspec": {
   "display_name": "Python 3",
   "language": "python",
   "name": "python3"
  },
  "language_info": {
   "codemirror_mode": {
    "name": "ipython",
    "version": 3
   },
   "file_extension": ".py",
   "mimetype": "text/x-python",
   "name": "python",
   "nbconvert_exporter": "python",
   "pygments_lexer": "ipython3",
   "version": "3.10.8"
  },
  "orig_nbformat": 4
 },
 "nbformat": 4,
 "nbformat_minor": 2
}
