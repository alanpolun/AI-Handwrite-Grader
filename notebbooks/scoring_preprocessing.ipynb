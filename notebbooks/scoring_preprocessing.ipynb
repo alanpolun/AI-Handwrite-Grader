{
 "cells": [
  {
   "cell_type": "markdown",
   "metadata": {},
   "source": [
    "# Preprocessing Student Answer\n",
    "OCR all student's answer"
   ]
  },
  {
   "cell_type": "code",
   "execution_count": 1,
   "metadata": {},
   "outputs": [
    {
     "name": "stdout",
     "output_type": "stream",
     "text": [
      "Hit:1 https://dl.yarnpkg.com/debian stable InRelease\n",
      "Get:2 https://packages.microsoft.com/repos/microsoft-ubuntu-focal-prod focal InRelease [3611 B]\n",
      "Hit:3 https://repo.anaconda.com/pkgs/misc/debrepo/conda stable InRelease\n",
      "Get:4 https://packages.microsoft.com/repos/microsoft-ubuntu-focal-prod focal/main amd64 Packages [215 kB]\n",
      "Get:5 http://security.ubuntu.com/ubuntu focal-security InRelease [114 kB]      \n",
      "Hit:6 http://archive.ubuntu.com/ubuntu focal InRelease                         \n",
      "Get:8 http://archive.ubuntu.com/ubuntu focal-updates InRelease [114 kB]        \n",
      "Hit:7 https://packagecloud.io/github/git-lfs/ubuntu focal InRelease            \n",
      "Get:9 http://archive.ubuntu.com/ubuntu focal-backports InRelease [108 kB]      \n",
      "Get:10 http://archive.ubuntu.com/ubuntu focal-updates/main amd64 Packages [3347 kB]\n",
      "Get:11 http://archive.ubuntu.com/ubuntu focal-updates/universe amd64 Packages [1372 kB]\n",
      "Fetched 5273 kB in 4s (1381 kB/s)                           \n",
      "Reading package lists... Done\n",
      "Reading package lists... Done\n",
      "Building dependency tree       \n",
      "Reading state information... Done\n",
      "libsm6 is already the newest version (2:1.2.3-1).\n",
      "libxext6 is already the newest version (2:1.3.4-0ubuntu1).\n",
      "ffmpeg is already the newest version (7:4.2.7-0ubuntu0.1).\n",
      "0 upgraded, 0 newly installed, 0 to remove and 13 not upgraded.\n"
     ]
    }
   ],
   "source": [
    "!sudo apt-get update\n",
    "!sudo apt-get install ffmpeg libsm6 libxext6 -y"
   ]
  },
  {
   "cell_type": "code",
   "execution_count": 2,
   "metadata": {},
   "outputs": [],
   "source": [
    "pdf_file = \"../data/TestScript.pdf\""
   ]
  },
  {
   "cell_type": "code",
   "execution_count": 3,
   "metadata": {},
   "outputs": [],
   "source": [
    "import os\n",
    "\n",
    "file_name = os.path.basename(pdf_file)\n",
    "file_name = os.path.splitext(file_name)[0]\n",
    "base_path = \"../marking_form/\" + file_name\n",
    "base_path_images = base_path + \"/images/\"\n",
    "base_path_annotations = base_path+\"/annotations/\"\n",
    "base_path_questions = base_path+\"/questions\"\n",
    "base_path_javascript = base_path+\"/javascript\"\n",
    "\n",
    "# create directory tree for base_path_images\n",
    "os.makedirs(base_path_images, exist_ok=True)\n",
    "os.makedirs(base_path_annotations, exist_ok=True)\n",
    "os.makedirs(base_path_questions, exist_ok=True)\n",
    "os.makedirs(base_path_javascript, exist_ok=True)"
   ]
  },
  {
   "cell_type": "code",
   "execution_count": 4,
   "metadata": {},
   "outputs": [],
   "source": [
    "import json\n",
    "annotations_path = base_path_annotations + \"annotations.json\"\n",
    "with open(annotations_path, \"r\") as f: \n",
    "    annotations = json.load(f)          \n",
    "\n",
    "#flatten annotations to list \n",
    "annotations_list = []\n",
    "for page in annotations:\n",
    "    for annotation in annotations[page]:\n",
    "        annotation[\"page\"] = int(page)\n",
    "        # x to left, y to top\n",
    "        annotation[\"left\"] = annotation[\"x\"]\n",
    "        annotation[\"top\"] = annotation[\"y\"]\n",
    "        annotation.pop(\"x\")\n",
    "        annotation.pop(\"y\")\n",
    "        annotations_list.append(annotation) \n",
    "annotations_list\n",
    "\n",
    "# convert annotations_list to dict with key with label\n",
    "annotations_dict = {}\n",
    "for annotation in annotations_list:\n",
    "    annotations_dict[annotation[\"label\"]] = annotation\n",
    "# annotations_dict\n"
   ]
  },
  {
   "cell_type": "code",
   "execution_count": 5,
   "metadata": {},
   "outputs": [
    {
     "data": {
      "text/plain": [
       "['NAME', 'ID', 'CLASS', 'Q1', 'Q36', 'Q37', 'Q38']"
      ]
     },
     "execution_count": 5,
     "metadata": {},
     "output_type": "execute_result"
    }
   ],
   "source": [
    "# extract list of label from annotations as questions\n",
    "questions = []\n",
    "for annotation in annotations_list:\n",
    "    if annotation[\"label\"] not in questions:\n",
    "        questions.append(annotation[\"label\"])\n",
    "# remove 'NAME', 'ID', 'CLASS' if exists in questions\n",
    "if 'NAME' in questions:\n",
    "    questions.remove('NAME')\n",
    "if 'ID' in questions:\n",
    "    questions.remove('ID')\n",
    "if 'CLASS' in questions:\n",
    "    questions.remove('CLASS')    \n",
    "\n",
    "# sort questions \n",
    "questions.sort()\n",
    "questions = ['NAME', 'ID', 'CLASS'] + questions\n",
    "questions"
   ]
  },
  {
   "cell_type": "markdown",
   "metadata": {},
   "source": [
    "Check for the regeneration of question."
   ]
  },
  {
   "cell_type": "code",
   "execution_count": 6,
   "metadata": {},
   "outputs": [
    {
     "data": {
      "text/plain": [
       "{}"
      ]
     },
     "execution_count": 6,
     "metadata": {},
     "output_type": "execute_result"
    }
   ],
   "source": [
    "import os\n",
    "import json\n",
    "\n",
    "questionAndControl = {}\n",
    "for path, currentDirectory, files in os.walk(base_path_questions):\n",
    "    for file in files:\n",
    "        if file == \"control.json\":\n",
    "            question = path[len(base_path_questions) + 1 :]\n",
    "            f = open(os.path.join(path, file))\n",
    "            data = json.load(f)\n",
    "            if \"regenerate\" in data:\n",
    "                questionAndControl[question] = data\n",
    "            f.close()\n",
    "\n",
    "questionAndControl"
   ]
  },
  {
   "cell_type": "code",
   "execution_count": 7,
   "metadata": {},
   "outputs": [
    {
     "data": {
      "text/plain": [
       "'../marking_form/TestScript/favicon.ico'"
      ]
     },
     "execution_count": 7,
     "metadata": {},
     "output_type": "execute_result"
    }
   ],
   "source": [
    "from distutils.dir_util import copy_tree\n",
    "import shutil\n",
    "import os\n",
    "\n",
    "from_directory = os.path.join(os.getcwd(), \"..\",\"templates\", \"javascript\")\n",
    "copy_tree(from_directory, base_path_javascript)\n",
    "ico = os.path.join(os.getcwd(), \"..\",\"templates\", \"favicon.ico\")\n",
    "# copy ico file  to base_path\n",
    "shutil.copyfile(ico, base_path+\"/favicon.ico\")"
   ]
  },
  {
   "cell_type": "markdown",
   "metadata": {},
   "source": [
    "Generate the index.html"
   ]
  },
  {
   "cell_type": "code",
   "execution_count": 25,
   "metadata": {},
   "outputs": [],
   "source": [
    "from pathlib import Path\n",
    "from jinja2 import Environment, FileSystemLoader\n",
    "\n",
    "file_loader = FileSystemLoader(\"../templates\")\n",
    "env = Environment(loader=file_loader)\n",
    "template = env.get_template(\"index.html\")\n",
    "\n",
    "output = template.render(\n",
    "    studentsScriptFileName=file_name,\n",
    "    textAnswer=questions,\n",
    "    optionAnswer=[],\n",
    ")\n",
    "# open text file\n",
    "path = Path(os.path.join(base_path, \"index.html\"))\n",
    "text_file = open(path, \"w\")\n",
    "text_file.write(output)\n",
    "text_file.close()"
   ]
  },
  {
   "cell_type": "code",
   "execution_count": 26,
   "metadata": {},
   "outputs": [
    {
     "name": "stderr",
     "output_type": "stream",
     "text": [
      "Neither CUDA nor MPS are available - defaulting to CPU. Note: This module is much faster with a GPU.\n"
     ]
    }
   ],
   "source": [
    "import easyocr\n",
    "import tempfile\n",
    "from PIL import Image, ImageEnhance\n",
    "import os\n",
    "\n",
    "easyocrLanguages = [\"en\"]\n",
    "reader = easyocr.Reader(easyocrLanguages, gpu=True)\n",
    "\n",
    "def ocr_image_from_file(image_path, left, top, width, height):\n",
    "    return \"\"\n",
    "    # imageFile = tempfile.NamedTemporaryFile(suffix=\".png\").name\n",
    "    # with Image.open(image_path) as im:\n",
    "    #     # The crop method from the Image module takes four coordinates as input.\n",
    "    #     # The right can also be represented as (left+width)\n",
    "    #     # and lower can be represented as (upper+height).\n",
    "    #     (left, top, right, lower) = (\n",
    "    #         left,\n",
    "    #         top,\n",
    "    #         left + width,\n",
    "    #         top + height,\n",
    "    #     )\n",
    "    #     # Here the image \"im\" is cropped and assigned to new variable im_crop\n",
    "    #     im_crop = im.crop((left, top, right, lower))\n",
    "    #     imageEnhance = ImageEnhance.Sharpness(im_crop)\n",
    "    #     # showing resultant image\n",
    "    #     im_crop = imageEnhance.enhance(3)\n",
    "    #     im_crop.save(imageFile, format=\"png\")\n",
    "    # result = reader.readtext(imageFile, detail=0)\n",
    "    # easyocrText = \"\".join(result)\n",
    "    # text = easyocrText   \n",
    "    # os.remove(imageFile)\n",
    "    # return text"
   ]
  },
  {
   "cell_type": "code",
   "execution_count": null,
   "metadata": {},
   "outputs": [],
   "source": [
    "import os\n",
    "import pandas as pd\n",
    "\n",
    "\n",
    "def get_the_list_of_files(path):\n",
    "    \"\"\"\n",
    "    Get the list of files in the directory\n",
    "    \"\"\"\n",
    "    files = []\n",
    "    for dirpath, dirnames, filenames in os.walk(path):\n",
    "        files.extend(filenames)\n",
    "        break\n",
    "    return sorted(files)\n",
    "\n",
    "\n",
    "images = get_the_list_of_files(base_path_images)\n",
    "\n",
    "# get max page from annotations_list\n",
    "max_page = 0\n",
    "for annotation in annotations_list:\n",
    "    if annotation[\"page\"] > max_page:\n",
    "        max_page = annotation[\"page\"]\n",
    "max_page = max_page + 1\n",
    "\n",
    "# filter images by file name divided by page\n",
    "images_by_page = []\n",
    "for page in range(max_page):\n",
    "    images_by_page.append([])\n",
    "    for image in images:\n",
    "        p = int(image.split(\".\")[0])\n",
    "        if p % max_page == page:\n",
    "            images_by_page[page].append(image)\n",
    "\n",
    "\n",
    "def get_df(question):\n",
    "    row = annotations_dict[question].copy()\n",
    "\n",
    "    row[\"Confidence\"] = 0.1\n",
    "    row[\"Similarity\"] = 0\n",
    "    row[\"Image\"] = images_by_page[row[\"page\"]]\n",
    "    # append base_path_images to each image\n",
    "    row[\"Image\"] = [\"images/\" + image for image in row[\"Image\"]]\n",
    "\n",
    "\n",
    "    # expend row to dataframe for each image in row[\"Image\"]\n",
    "    data = pd.DataFrame(row)\n",
    "    data = data.explode(\"Image\")\n",
    "    data = data.reset_index(drop=True)\n",
    "     \n",
    "    data[\"Answer\"] = data.apply(\n",
    "        lambda row: ocr_image_from_file(\n",
    "            base_path + \"/\" + row[\"Image\"],\n",
    "            row[\"left\"],\n",
    "            row[\"top\"],\n",
    "            row[\"width\"],\n",
    "            row[\"height\"],\n",
    "        ),\n",
    "        axis=1,\n",
    "    )\n",
    "    # add column RowNumber\n",
    "    data[\"RowNumber\"] = data.index + 1\n",
    "    data[\"maskPage\"] = data[\"page\"]\n",
    "    data[\"page\"] = data[\"Image\"].apply(lambda x: x.replace(\"images/\",\"\").replace(\".jpg\",\"\"))   \n",
    "\n",
    "    return data\n",
    "\n",
    "\n",
    "def save_template_output(output, question, filename):\n",
    "    path = Path(base_path_questions, question)\n",
    "    path.mkdir(parents=True, exist_ok=True)\n",
    "    path = Path(os.path.join(path, filename))\n",
    "    text_file = open(path, \"w\")\n",
    "    text_file.write(output)\n",
    "    text_file.close()\n",
    "\n",
    "\n",
    "# question = \"NAME\"\n",
    "# get_df(question)"
   ]
  },
  {
   "cell_type": "markdown",
   "metadata": {},
   "source": [
    "Generate individual question page."
   ]
  },
  {
   "cell_type": "code",
   "execution_count": null,
   "metadata": {},
   "outputs": [],
   "source": [
    "\n",
    "for question in questions:\n",
    "\n",
    "    dataTable = get_df(question)\n",
    "\n",
    "    if question == \"ID\" or question == \"NAME\" or question == \"CLASS\":\n",
    "        template = env.get_template(\"questions/index-answer.html\")\n",
    "    else:\n",
    "        template = env.get_template(\"questions/index.html\")\n",
    "    output = template.render(\n",
    "        studentsScriptFileName=file_name,\n",
    "        question=question,\n",
    "        standardAnswer=\"\",\n",
    "        estimatedBoundingBox=annotations_dict[question],\n",
    "        dataTable=dataTable,\n",
    "    )\n",
    "    save_template_output(output, question, \"index.html\")\n",
    "\n",
    "    template = env.get_template(\"questions/question.js\")\n",
    "    output = template.render(\n",
    "        dataTable=dataTable,\n",
    "        estimatedBoundingBox=annotations_dict[question],\n",
    "    )\n",
    "    save_template_output(output, question, \"question.js\")\n",
    "\n",
    "    template = env.get_template(\"questions/style.css\")\n",
    "    output = template.render(\n",
    "        dataTable=dataTable,\n",
    "    )\n",
    "    save_template_output(output, question, \"style.css\")"
   ]
  },
  {
   "cell_type": "markdown",
   "metadata": {},
   "source": [
    "# Start Python HTTPServer\n",
    "\n",
    "The webserver log is in output/server.log.\n",
    "\n",
    "If you are in development and don't want the notebook being blocked by running webserver, you can open a terminal and run the below 2 commands.\n",
    "\n",
    "python server.py 8000"
   ]
  },
  {
   "cell_type": "code",
   "execution_count": null,
   "metadata": {},
   "outputs": [],
   "source": []
  }
 ],
 "metadata": {
  "kernelspec": {
   "display_name": "Python 3",
   "language": "python",
   "name": "python3"
  },
  "language_info": {
   "codemirror_mode": {
    "name": "ipython",
    "version": 3
   },
   "file_extension": ".py",
   "mimetype": "text/x-python",
   "name": "python",
   "nbconvert_exporter": "python",
   "pygments_lexer": "ipython3",
   "version": "3.10.8"
  },
  "orig_nbformat": 4
 },
 "nbformat": 4,
 "nbformat_minor": 2
}
