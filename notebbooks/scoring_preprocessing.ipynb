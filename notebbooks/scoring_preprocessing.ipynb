{
 "cells": [
  {
   "cell_type": "markdown",
   "metadata": {},
   "source": [
    "# Preprocessing Student Answer\n",
    "OCR all student's answer"
   ]
  },
  {
   "cell_type": "code",
   "execution_count": 3,
   "metadata": {},
   "outputs": [],
   "source": [
    "pdf_file = \"../data/TestScript.pdf\""
   ]
  },
  {
   "cell_type": "code",
   "execution_count": 4,
   "metadata": {},
   "outputs": [],
   "source": [
    "import os\n",
    "\n",
    "file_name = os.path.basename(pdf_file)\n",
    "file_name = os.path.splitext(file_name)[0]\n",
    "base_path = \"../marking_form/\" + file_name\n",
    "base_path_images = base_path + \"/images/\"\n",
    "base_path_annotations = base_path+\"/annotations/\"\n",
    "base_path_questions = base_path+\"/grading_form/questions\"\n",
    "base_path_javascript = base_path+\"/grading_form/javascript\"\n",
    "\n",
    "# create directory tree for base_path_images\n",
    "os.makedirs(base_path_images, exist_ok=True)\n",
    "os.makedirs(base_path_annotations, exist_ok=True)\n",
    "os.makedirs(base_path_questions, exist_ok=True)\n",
    "os.makedirs(base_path_javascript, exist_ok=True)"
   ]
  },
  {
   "cell_type": "code",
   "execution_count": 5,
   "metadata": {},
   "outputs": [
    {
     "data": {
      "text/plain": [
       "{'0': [{'x': 238, 'y': 173, 'width': 322, 'height': 77, 'label': 'NAME'},\n",
       "  {'x': 175, 'y': 259, 'width': 471, 'height': 83, 'label': 'ID'},\n",
       "  {'x': 835, 'y': 248, 'width': 168, 'height': 91, 'label': 'CLASS'},\n",
       "  {'x': 164, 'y': 344, 'width': 322, 'height': 111, 'label': 'Q1'}],\n",
       " '1': [{'x': 184, 'y': 482, 'width': 347, 'height': 138, 'label': 'Q36'},\n",
       "  {'x': 665, 'y': 460, 'width': 410, 'height': 150, 'label': 'Q37'},\n",
       "  {'x': 1166, 'y': 473, 'width': 384, 'height': 143, 'label': 'Q38'}]}"
      ]
     },
     "execution_count": 5,
     "metadata": {},
     "output_type": "execute_result"
    }
   ],
   "source": [
    "import json\n",
    "annotations_path = base_path_annotations + \"annotations.json\"\n",
    "with open(annotations_path, \"r\") as f: \n",
    "    annotations = json.load(f) \n",
    "\n",
    "annotations"
   ]
  },
  {
   "cell_type": "code",
   "execution_count": 6,
   "metadata": {},
   "outputs": [
    {
     "data": {
      "text/plain": [
       "[{'x': 238, 'y': 173, 'width': 322, 'height': 77, 'label': 'NAME', 'page': 0},\n",
       " {'x': 175, 'y': 259, 'width': 471, 'height': 83, 'label': 'ID', 'page': 0},\n",
       " {'x': 835, 'y': 248, 'width': 168, 'height': 91, 'label': 'CLASS', 'page': 0},\n",
       " {'x': 164, 'y': 344, 'width': 322, 'height': 111, 'label': 'Q1', 'page': 0},\n",
       " {'x': 184, 'y': 482, 'width': 347, 'height': 138, 'label': 'Q36', 'page': 1},\n",
       " {'x': 665, 'y': 460, 'width': 410, 'height': 150, 'label': 'Q37', 'page': 1},\n",
       " {'x': 1166, 'y': 473, 'width': 384, 'height': 143, 'label': 'Q38', 'page': 1}]"
      ]
     },
     "execution_count": 6,
     "metadata": {},
     "output_type": "execute_result"
    }
   ],
   "source": [
    "#flatten annotations to list \n",
    "annotations_list = []\n",
    "for page in annotations:\n",
    "    for annotation in annotations[page]:\n",
    "        annotation[\"page\"] = int(page)\n",
    "        annotations_list.append(annotation) \n",
    "annotations_list"
   ]
  },
  {
   "cell_type": "code",
   "execution_count": 7,
   "metadata": {},
   "outputs": [
    {
     "data": {
      "text/plain": [
       "['NAME', 'ID', 'CLASS', 'Q1', 'Q36', 'Q37', 'Q38']"
      ]
     },
     "execution_count": 7,
     "metadata": {},
     "output_type": "execute_result"
    }
   ],
   "source": [
    "# extract list of label from annotations as questions\n",
    "questions = []\n",
    "for annotation in annotations_list:\n",
    "    if annotation[\"label\"] not in questions:\n",
    "        questions.append(annotation[\"label\"])\n",
    "# remove 'NAME', 'ID', 'CLASS' if exists in questions\n",
    "if 'NAME' in questions:\n",
    "    questions.remove('NAME')\n",
    "if 'ID' in questions:\n",
    "    questions.remove('ID')\n",
    "if 'CLASS' in questions:\n",
    "    questions.remove('CLASS')    \n",
    "\n",
    "# sort questions \n",
    "questions.sort()\n",
    "questions = ['NAME', 'ID', 'CLASS'] + questions\n",
    "questions"
   ]
  },
  {
   "cell_type": "markdown",
   "metadata": {},
   "source": [
    "Check for the regeneration of question."
   ]
  },
  {
   "cell_type": "code",
   "execution_count": 8,
   "metadata": {},
   "outputs": [
    {
     "data": {
      "text/plain": [
       "{}"
      ]
     },
     "execution_count": 8,
     "metadata": {},
     "output_type": "execute_result"
    }
   ],
   "source": [
    "import os\n",
    "import json\n",
    "\n",
    "questionAndControl = {}\n",
    "for path, currentDirectory, files in os.walk(base_path_questions):\n",
    "    for file in files:\n",
    "        if file == \"control.json\":\n",
    "            question = path[len(base_path_questions) + 1 :]\n",
    "            f = open(os.path.join(path, file))\n",
    "            data = json.load(f)\n",
    "            if \"regenerate\" in data:\n",
    "                questionAndControl[question] = data\n",
    "            f.close()\n",
    "\n",
    "questionAndControl"
   ]
  },
  {
   "cell_type": "code",
   "execution_count": 13,
   "metadata": {},
   "outputs": [
    {
     "data": {
      "text/plain": [
       "'../marking_form/TestScript/favicon.ico'"
      ]
     },
     "execution_count": 13,
     "metadata": {},
     "output_type": "execute_result"
    }
   ],
   "source": [
    "from distutils.dir_util import copy_tree\n",
    "import shutil\n",
    "import os\n",
    "\n",
    "from_directory = os.path.join(os.getcwd(), \"..\",\"templates\", \"javascript\")\n",
    "copy_tree(from_directory, base_path_javascript)\n",
    "ico = os.path.join(os.getcwd(), \"..\",\"templates\", \"favicon.ico\")\n",
    "# copy ico file  to base_path\n",
    "shutil.copyfile(ico, base_path+\"/favicon.ico\")"
   ]
  },
  {
   "cell_type": "markdown",
   "metadata": {},
   "source": [
    "Generate the index.html"
   ]
  },
  {
   "cell_type": "code",
   "execution_count": 2,
   "metadata": {},
   "outputs": [],
   "source": [
    "from pathlib import Path\n",
    "from jinja2 import Environment, FileSystemLoader\n",
    "\n",
    "file_loader = FileSystemLoader(\"../templates\")\n",
    "env = Environment(loader=file_loader)\n",
    "template = env.get_template(\"index.html\")\n",
    "\n",
    "output = template.render(\n",
    "    studentsScriptFileName=file_name,\n",
    "    textAnswer=questions,\n",
    "    optionAnswer=[],\n",
    ")\n",
    "# open text file\n",
    "path = Path(os.path.join(base_path, \"index.html\"))\n",
    "text_file = open(path, \"w\")\n",
    "text_file.write(output)\n",
    "text_file.close()"
   ]
  },
  {
   "cell_type": "markdown",
   "metadata": {},
   "source": [
    "# Start Python HTTPServer\n",
    "\n",
    "The webserver log is in output/server.log.\n",
    "\n",
    "If you are in development and don't want the notebook being blocked by running webserver, you can open a terminal and run the below 2 commands.\n",
    "\n",
    "python server.py 8000"
   ]
  },
  {
   "cell_type": "code",
   "execution_count": null,
   "metadata": {},
   "outputs": [],
   "source": []
  }
 ],
 "metadata": {
  "kernelspec": {
   "display_name": "Python 3",
   "language": "python",
   "name": "python3"
  },
  "language_info": {
   "codemirror_mode": {
    "name": "ipython",
    "version": 3
   },
   "file_extension": ".py",
   "mimetype": "text/x-python",
   "name": "python",
   "nbconvert_exporter": "python",
   "pygments_lexer": "ipython3",
   "version": "3.10.8"
  },
  "orig_nbformat": 4
 },
 "nbformat": 4,
 "nbformat_minor": 2
}
